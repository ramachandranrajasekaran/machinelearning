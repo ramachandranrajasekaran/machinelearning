{
 "cells": [
  {
   "cell_type": "code",
   "execution_count": 83,
   "metadata": {},
   "outputs": [
    {
     "name": "stdout",
     "output_type": "stream",
     "text": [
      "<Response [200]> {\"Proposed Plan\":\"7\"}\n",
      "\n",
      "Dear Customer, Based on your usage the following is the proposed recharge plan - Plan 7\n"
     ]
    }
   ],
   "source": [
    "import requests\n",
    "import json\n",
    "\n",
    "url = 'http://localhost:5000/predict/'\n",
    "\n",
    "data = [[14.34, 1.68, 2.7, 25.0, 98.0, 2.8, 1.31, 0.53, 2.7, 13.0, 0.57, 1.96, 660.0]]\n",
    "data = {\n",
    "            'name': 'Tom Cruise',\n",
    "            'address': '102, Silicon Valley, USA',\n",
    "            'phoneNumber': '+1-306-698-254',\n",
    "            'region': 'Chennai',\n",
    "            'age': 45,\n",
    "            'calls': 50, \n",
    "            'activeCalls': 220,\n",
    "            'sms': 60,\n",
    "            'data': 8095,\n",
    "            'subscription_a': 1,\n",
    "            'subscription_b': 1,\n",
    "            'subscription_c': 1,\n",
    "            'subscription_d': 1,\n",
    "            'plan': 1\n",
    "        }\n",
    "\n",
    "j_data = json.dumps(data)\n",
    "headers = {'content-type': 'application/json', 'Accept-Charset': 'UTF-8'}\n",
    "r = requests.post(url, data=j_data, headers=headers)\n",
    "print(r, r.text)\n",
    "response = r.text\n",
    "if response != \"Success\":\n",
    "    j_data = json.loads(response)\n",
    "    print(\"Dear Customer, Based on your usage the following is the proposed recharge plan - Plan\", j_data['Proposed Plan'])"
   ]
  }
 ],
 "metadata": {
  "kernelspec": {
   "display_name": "Python 3",
   "language": "python",
   "name": "python3"
  },
  "language_info": {
   "codemirror_mode": {
    "name": "ipython",
    "version": 3
   },
   "file_extension": ".py",
   "mimetype": "text/x-python",
   "name": "python",
   "nbconvert_exporter": "python",
   "pygments_lexer": "ipython3",
   "version": "3.8.5"
  }
 },
 "nbformat": 4,
 "nbformat_minor": 4
}
