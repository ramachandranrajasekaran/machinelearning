{
 "cells": [
  {
   "cell_type": "code",
   "execution_count": 1,
   "metadata": {},
   "outputs": [],
   "source": [
    "from pandas import read_csv\n",
    "from matplotlib import pyplot as plt\n",
    "from sklearn.preprocessing import LabelEncoder\n",
    "\n",
    "# Read dataset from the csv file\n",
    "filename = \"E:\\\\Work\\\\FinalProjectData\\\\unsupervised_data.csv\"\n",
    "dataset  = read_csv(filename)\n",
    "\n",
    "# Removing the unwanted attributed which does not contribute to the analysis\n",
    "dataset.pop('name')\n",
    "dataset.pop('phoneNumber')\n",
    "dataset.pop('address')\n",
    "\n",
    "# LabelEncoder to transform the string data to integer\n",
    "le = LabelEncoder()\n",
    "for col in dataset.columns:\n",
    "    if col == 'city':\n",
    "        le.fit(dataset[col])\n",
    "        dataset[col] = le.transform(dataset[col])\n"
   ]
  },
  {
   "cell_type": "code",
   "execution_count": 2,
   "metadata": {},
   "outputs": [],
   "source": [
    "from sklearn.preprocessing import StandardScaler\n",
    "\n",
    "features = ['city', 'age', 'calls', 'activeCalls', 'sms', 'data', 'subscription_a', \n",
    "            'subscription_b', 'subscription_c', 'subscription_d']\n",
    "# Separating out the features\n",
    "#x = dataset.loc[:, features].values\n",
    "x = dataset.loc[:, ['age']].values\n",
    "# Separating out the target\n",
    "y = dataset.loc[:,['plan']].values\n",
    "# Standardizing the features\n",
    "x = StandardScaler().fit_transform(x)"
   ]
  },
  {
   "cell_type": "code",
   "execution_count": 3,
   "metadata": {},
   "outputs": [],
   "source": [
    "from sklearn.cluster import KMeans\n",
    "\n",
    "kmeans = KMeans(n_clusters=7, random_state=0).fit(x)\n",
    "y_kmeans = kmeans.predict(x)\n"
   ]
  },
  {
   "cell_type": "code",
   "execution_count": 4,
   "metadata": {},
   "outputs": [
    {
     "data": {
      "image/png": "[encoded data removed]",
      "text/plain": [
       "<Figure size 432x288 with 1 Axes>"
      ]
     },
     "metadata": {
      "needs_background": "light"
     },
     "output_type": "display_data"
    }
   ],
   "source": [
    "plt.scatter(x[:, 0], x[:, 0], c=y_kmeans, s=50, cmap='viridis')\n",
    "\n",
    "centers = kmeans.cluster_centers_\n",
    "plt.scatter(centers[:, 0], centers[:, 0], c='black', s=200, alpha=0.5);"
   ]
  },
  {
   "cell_type": "code",
   "execution_count": null,
   "metadata": {},
   "outputs": [],
   "source": []
  }
 ],
 "metadata": {
  "kernelspec": {
   "display_name": "Python 3",
   "language": "python",
   "name": "python3"
  },
  "language_info": {
   "codemirror_mode": {
    "name": "ipython",
    "version": 3
   },
   "file_extension": ".py",
   "mimetype": "text/x-python",
   "name": "python",
   "nbconvert_exporter": "python",
   "pygments_lexer": "ipython3",
   "version": "3.8.5"
  }
 },
 "nbformat": 4,
 "nbformat_minor": 4
}
