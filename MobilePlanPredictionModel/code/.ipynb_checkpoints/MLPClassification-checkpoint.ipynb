{
 "cells": [
  {
   "cell_type": "code",
   "execution_count": 23,
   "metadata": {},
   "outputs": [],
   "source": [
    "from pandas import read_csv\n",
    "from matplotlib import pyplot\n",
    "from sklearn.preprocessing import LabelEncoder\n",
    "from sklearn.cluster import KMeans\n",
    "\n",
    "# Read dataset from the csv file\n",
    "filename = \"E:\\\\Work\\\\FinalProjectData\\\\unsupervised_data.csv\"\n",
    "dataset  = read_csv(filename)\n",
    "\n",
    "dataset.pop('name')\n",
    "dataset.pop('phoneNumber')\n",
    "dataset.pop('address')\n",
    "\n",
    "le = LabelEncoder()\n",
    "for col in dataset.columns:\n",
    "    if col == 'city':\n",
    "        le.fit(dataset[col])\n",
    "        dataset[col] = le.transform(dataset[col])\n",
    "        \n",
    "features = ['city', 'age', 'calls', 'activeCalls', 'sms', 'data', 'subscription_a', \n",
    "            'subscription_b', 'subscription_c', 'subscription_d']\n",
    "X = dataset.loc[:, features].values\n",
    "y = dataset.loc[:,['plan']].values\n"
   ]
  },
  {
   "cell_type": "code",
   "execution_count": 24,
   "metadata": {},
   "outputs": [],
   "source": [
    "from sklearn.model_selection import train_test_split\n",
    "\n",
    "X_train, X_test, y_train, y_test = train_test_split(X, y)"
   ]
  },
  {
   "cell_type": "code",
   "execution_count": 25,
   "metadata": {},
   "outputs": [
    {
     "data": {
      "text/plain": [
       "StandardScaler()"
      ]
     },
     "execution_count": 25,
     "metadata": {},
     "output_type": "execute_result"
    }
   ],
   "source": [
    "from sklearn.preprocessing import StandardScaler\n",
    "scaler = StandardScaler()\n",
    "\n",
    "scaler.fit(X_train)"
   ]
  },
  {
   "cell_type": "code",
   "execution_count": 26,
   "metadata": {},
   "outputs": [],
   "source": [
    "X_train = scaler.transform(X_train)\n",
    "X_test = scaler.transform(X_test)\n"
   ]
  },
  {
   "cell_type": "code",
   "execution_count": 38,
   "metadata": {},
   "outputs": [
    {
     "name": "stderr",
     "output_type": "stream",
     "text": [
      "E:\\Work\\anaconda3\\lib\\site-packages\\sklearn\\utils\\validation.py:72: DataConversionWarning: A column-vector y was passed when a 1d array was expected. Please change the shape of y to (n_samples, ), for example using ravel().\n",
      "  return f(**kwargs)\n",
      "E:\\Work\\anaconda3\\lib\\site-packages\\sklearn\\neural_network\\_multilayer_perceptron.py:582: ConvergenceWarning: Stochastic Optimizer: Maximum iterations (300) reached and the optimization hasn't converged yet.\n",
      "  warnings.warn(\n"
     ]
    }
   ],
   "source": [
    "from sklearn.neural_network import MLPClassifier\n",
    "mlp = MLPClassifier(hidden_layer_sizes=(150,10,150), max_iter=300)\n",
    "#mlp = MLPClassifier(random_state=1, max_iter=300).fit(X_train, y_train)\n",
    "mlp.fit(X_train,y_train)"
   ]
  },
  {
   "cell_type": "code",
   "execution_count": 39,
   "metadata": {},
   "outputs": [],
   "source": [
    "predictions = mlp.predict(X_test)"
   ]
  },
  {
   "cell_type": "code",
   "execution_count": 40,
   "metadata": {},
   "outputs": [
    {
     "name": "stdout",
     "output_type": "stream",
     "text": [
      "[[649  28   0   0   0   0   0]\n",
      " [ 45 611   0   0   0   0   0]\n",
      " [  0  13 674  17   0   0   0]\n",
      " [  0   0  67 569  17   0   0]\n",
      " [  0   0   0  63 602   1   0]\n",
      " [  0   1   0   0  33 675  14]\n",
      " [  0   0   0   0   0  83 590]]\n",
      "              precision    recall  f1-score   support\n",
      "\n",
      "           1       0.94      0.96      0.95       677\n",
      "           2       0.94      0.93      0.93       656\n",
      "           3       0.91      0.96      0.93       704\n",
      "           4       0.88      0.87      0.87       653\n",
      "           5       0.92      0.90      0.91       666\n",
      "           6       0.89      0.93      0.91       723\n",
      "           7       0.98      0.88      0.92       673\n",
      "\n",
      "    accuracy                           0.92      4752\n",
      "   macro avg       0.92      0.92      0.92      4752\n",
      "weighted avg       0.92      0.92      0.92      4752\n",
      "\n"
     ]
    }
   ],
   "source": [
    "from sklearn.metrics import classification_report,confusion_matrix\n",
    "print(confusion_matrix(y_test,predictions))\n",
    "print(classification_report(y_test,predictions))"
   ]
  },
  {
   "cell_type": "code",
   "execution_count": null,
   "metadata": {},
   "outputs": [],
   "source": []
  }
 ],
 "metadata": {
  "kernelspec": {
   "display_name": "Python 3",
   "language": "python",
   "name": "python3"
  },
  "language_info": {
   "codemirror_mode": {
    "name": "ipython",
    "version": 3
   },
   "file_extension": ".py",
   "mimetype": "text/x-python",
   "name": "python",
   "nbconvert_exporter": "python",
   "pygments_lexer": "ipython3",
   "version": "3.8.5"
  }
 },
 "nbformat": 4,
 "nbformat_minor": 4
}
